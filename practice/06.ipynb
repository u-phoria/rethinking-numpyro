{
 "metadata": {
  "language_info": {
   "codemirror_mode": {
    "name": "ipython",
    "version": 3
   },
   "file_extension": ".py",
   "mimetype": "text/x-python",
   "name": "python",
   "nbconvert_exporter": "python",
   "pygments_lexer": "ipython3",
   "version": "3.7.6-final"
  },
  "orig_nbformat": 2,
  "kernelspec": {
   "name": "python_defaultSpec_1597511440950",
   "display_name": "Python 3.7.6 64-bit ('venv': venv)"
  }
 },
 "nbformat": 4,
 "nbformat_minor": 2,
 "cells": [
  {
   "cell_type": "code",
   "execution_count": 62,
   "metadata": {},
   "outputs": [],
   "source": [
    "import warnings\n",
    "\n",
    "import arviz as az\n",
    "import daft\n",
    "import matplotlib.pyplot as plt\n",
    "import pandas as pd\n",
    "from causalgraphicalmodels import CausalGraphicalModel\n",
    "\n",
    "import jax.numpy as jnp\n",
    "from jax import lax, random\n",
    "\n",
    "import numpyro\n",
    "import numpyro.distributions as dist\n",
    "import numpyro.optim as optim\n",
    "from numpyro.diagnostics import print_summary\n",
    "from numpyro.infer import ELBO, SVI, NUTS, MCMC, Predictive\n",
    "from numpyro.infer.autoguide import AutoLaplaceApproximation\n",
    "\n",
    "%config InlineBackend.figure_formats = [\"svg\"]\n",
    "warnings.formatwarning = lambda message, category, *args, **kwargs: \"{}: {}\\n\".format(\n",
    "    category.__name__, message\n",
    ")\n",
    "az.style.use(\"arviz-darkgrid\")"
   ]
  },
  {
   "cell_type": "code",
   "execution_count": 63,
   "metadata": {},
   "outputs": [],
   "source": [
    "rng_key = random.PRNGKey(0)\n",
    "rng_key, rng_key_ = random.split(rng_key)"
   ]
  },
  {
   "cell_type": "code",
   "execution_count": 64,
   "metadata": {
    "tags": []
   },
   "outputs": [
    {
     "output_type": "stream",
     "name": "stdout",
     "text": "(50, 17)\n"
    },
    {
     "output_type": "execute_result",
     "data": {
      "text/plain": "        location loc  population   age  marriage  marriage se  divorce  \\\n11        Hawaii  HI        1.36  26.9      24.9         2.54      8.3   \n33  North Dakota  ND        0.67  25.3      26.7         2.93      8.0   \n0        Alabama  AL        4.78  25.3      20.2         1.27     12.7   \n\n    divorce se  waffle  south  slaves1860  population1860  propslaves1860  \\\n11        1.27       0      0           0               0            0.00   \n33        1.44       0      0           0               0            0.00   \n0         0.79     128      1      435080          964201            0.45   \n\n    age_scaled  marriage_scaled  divorce_scaled  waffle_scaled  \n11    0.680266         1.260168       -0.762296      -0.491567  \n33   -0.606290         1.734114       -0.927058      -0.491567  \n0    -0.606290         0.022644        1.654205       1.454029  ",
      "text/html": "<div>\n<style scoped>\n    .dataframe tbody tr th:only-of-type {\n        vertical-align: middle;\n    }\n\n    .dataframe tbody tr th {\n        vertical-align: top;\n    }\n\n    .dataframe thead th {\n        text-align: right;\n    }\n</style>\n<table border=\"1\" class=\"dataframe\">\n  <thead>\n    <tr style=\"text-align: right;\">\n      <th></th>\n      <th>location</th>\n      <th>loc</th>\n      <th>population</th>\n      <th>age</th>\n      <th>marriage</th>\n      <th>marriage se</th>\n      <th>divorce</th>\n      <th>divorce se</th>\n      <th>waffle</th>\n      <th>south</th>\n      <th>slaves1860</th>\n      <th>population1860</th>\n      <th>propslaves1860</th>\n      <th>age_scaled</th>\n      <th>marriage_scaled</th>\n      <th>divorce_scaled</th>\n      <th>waffle_scaled</th>\n    </tr>\n  </thead>\n  <tbody>\n    <tr>\n      <th>11</th>\n      <td>Hawaii</td>\n      <td>HI</td>\n      <td>1.36</td>\n      <td>26.9</td>\n      <td>24.9</td>\n      <td>2.54</td>\n      <td>8.3</td>\n      <td>1.27</td>\n      <td>0</td>\n      <td>0</td>\n      <td>0</td>\n      <td>0</td>\n      <td>0.00</td>\n      <td>0.680266</td>\n      <td>1.260168</td>\n      <td>-0.762296</td>\n      <td>-0.491567</td>\n    </tr>\n    <tr>\n      <th>33</th>\n      <td>North Dakota</td>\n      <td>ND</td>\n      <td>0.67</td>\n      <td>25.3</td>\n      <td>26.7</td>\n      <td>2.93</td>\n      <td>8.0</td>\n      <td>1.44</td>\n      <td>0</td>\n      <td>0</td>\n      <td>0</td>\n      <td>0</td>\n      <td>0.00</td>\n      <td>-0.606290</td>\n      <td>1.734114</td>\n      <td>-0.927058</td>\n      <td>-0.491567</td>\n    </tr>\n    <tr>\n      <th>0</th>\n      <td>Alabama</td>\n      <td>AL</td>\n      <td>4.78</td>\n      <td>25.3</td>\n      <td>20.2</td>\n      <td>1.27</td>\n      <td>12.7</td>\n      <td>0.79</td>\n      <td>128</td>\n      <td>1</td>\n      <td>435080</td>\n      <td>964201</td>\n      <td>0.45</td>\n      <td>-0.606290</td>\n      <td>0.022644</td>\n      <td>1.654205</td>\n      <td>1.454029</td>\n    </tr>\n  </tbody>\n</table>\n</div>"
     },
     "metadata": {},
     "execution_count": 64
    }
   ],
   "source": [
    "df = pd.read_csv('../data/WaffleDivorce.csv', sep=';')\n",
    "\n",
    "standardize = lambda x: (x - x.mean()) / x.std()\n",
    "df['age_scaled'] = df.MedianAgeMarriage.pipe(standardize)\n",
    "df['marriage_scaled'] = df.Marriage.pipe(standardize)\n",
    "df['divorce_scaled'] = df.Divorce.pipe(standardize)\n",
    "df['waffle_scaled'] = df.WaffleHouses.pipe(standardize)\n",
    "\n",
    "df.rename(columns=dict(\n",
    "    MedianAgeMarriage='age',\n",
    "    WaffleHouses='waffle',\n",
    "), inplace=True)\n",
    "df.columns = [c.lower() for c in df.columns]\n",
    "print(df.shape)\n",
    "df.sample(3)"
   ]
  },
  {
   "cell_type": "code",
   "execution_count": 65,
   "metadata": {},
   "outputs": [
    {
     "output_type": "execute_result",
     "data": {
      "text/plain": "       population       age   marriage  marriage se    divorce  divorce se  \\\ncount   50.000000  50.00000  50.000000    50.000000  50.000000   50.000000   \nmean     6.119600  26.05400  20.114000     1.399400   9.688000    0.961800   \nstd      6.876156   1.24363   3.797905     0.796975   1.820814    0.525367   \nmin      0.560000  23.20000  13.500000     0.390000   6.100000    0.240000   \n25%      1.635000  25.32500  17.125000     0.810000   8.300000    0.572500   \n50%      4.435000  25.90000  19.700000     1.185000   9.750000    0.795000   \n75%      6.677500  26.75000  22.100000     1.767500  10.900000    1.257500   \nmax     37.250000  29.70000  30.700000     3.920000  13.500000    2.500000   \n\n           waffle      south     slaves1860  population1860  propslaves1860  \\\ncount   50.000000  50.000000      50.000000    5.000000e+01       50.000000   \nmean    32.340000   0.280000   79378.340000    6.287293e+05        0.094051   \nstd     65.789587   0.453557  149730.921149    7.813127e+05        0.174449   \nmin      0.000000   0.000000       0.000000    0.000000e+00        0.000000   \n25%      0.000000   0.000000       0.000000    4.332100e+04        0.000000   \n50%      1.000000   0.000000       0.000000    4.077220e+05        0.000000   \n75%     39.750000   1.000000   80828.000000    9.209770e+05        0.085000   \nmax    381.000000   1.000000  490865.000000    3.880735e+06        0.570000   \n\n         age_scaled  marriage_scaled  divorce_scaled  waffle_scaled  \ncount  5.000000e+01     5.000000e+01    5.000000e+01   5.000000e+01  \nmean   3.885781e-15    -1.127987e-15   -2.742251e-16  -6.439294e-17  \nstd    1.000000e+00     1.000000e+00    1.000000e+00   1.000000e+00  \nmin   -2.294894e+00    -1.741486e+00   -1.970547e+00  -4.915672e-01  \n25%   -5.861871e-01    -7.870127e-01   -7.622965e-01  -4.915672e-01  \n50%   -1.238310e-01    -1.090075e-01    3.405071e-02  -4.763672e-01  \n75%    5.596519e-01     5.229198e-01    6.656364e-01   1.126318e-01  \nmax    2.931739e+00     2.787326e+00    2.093569e+00   5.299623e+00  ",
      "text/html": "<div>\n<style scoped>\n    .dataframe tbody tr th:only-of-type {\n        vertical-align: middle;\n    }\n\n    .dataframe tbody tr th {\n        vertical-align: top;\n    }\n\n    .dataframe thead th {\n        text-align: right;\n    }\n</style>\n<table border=\"1\" class=\"dataframe\">\n  <thead>\n    <tr style=\"text-align: right;\">\n      <th></th>\n      <th>population</th>\n      <th>age</th>\n      <th>marriage</th>\n      <th>marriage se</th>\n      <th>divorce</th>\n      <th>divorce se</th>\n      <th>waffle</th>\n      <th>south</th>\n      <th>slaves1860</th>\n      <th>population1860</th>\n      <th>propslaves1860</th>\n      <th>age_scaled</th>\n      <th>marriage_scaled</th>\n      <th>divorce_scaled</th>\n      <th>waffle_scaled</th>\n    </tr>\n  </thead>\n  <tbody>\n    <tr>\n      <th>count</th>\n      <td>50.000000</td>\n      <td>50.00000</td>\n      <td>50.000000</td>\n      <td>50.000000</td>\n      <td>50.000000</td>\n      <td>50.000000</td>\n      <td>50.000000</td>\n      <td>50.000000</td>\n      <td>50.000000</td>\n      <td>5.000000e+01</td>\n      <td>50.000000</td>\n      <td>5.000000e+01</td>\n      <td>5.000000e+01</td>\n      <td>5.000000e+01</td>\n      <td>5.000000e+01</td>\n    </tr>\n    <tr>\n      <th>mean</th>\n      <td>6.119600</td>\n      <td>26.05400</td>\n      <td>20.114000</td>\n      <td>1.399400</td>\n      <td>9.688000</td>\n      <td>0.961800</td>\n      <td>32.340000</td>\n      <td>0.280000</td>\n      <td>79378.340000</td>\n      <td>6.287293e+05</td>\n      <td>0.094051</td>\n      <td>3.885781e-15</td>\n      <td>-1.127987e-15</td>\n      <td>-2.742251e-16</td>\n      <td>-6.439294e-17</td>\n    </tr>\n    <tr>\n      <th>std</th>\n      <td>6.876156</td>\n      <td>1.24363</td>\n      <td>3.797905</td>\n      <td>0.796975</td>\n      <td>1.820814</td>\n      <td>0.525367</td>\n      <td>65.789587</td>\n      <td>0.453557</td>\n      <td>149730.921149</td>\n      <td>7.813127e+05</td>\n      <td>0.174449</td>\n      <td>1.000000e+00</td>\n      <td>1.000000e+00</td>\n      <td>1.000000e+00</td>\n      <td>1.000000e+00</td>\n    </tr>\n    <tr>\n      <th>min</th>\n      <td>0.560000</td>\n      <td>23.20000</td>\n      <td>13.500000</td>\n      <td>0.390000</td>\n      <td>6.100000</td>\n      <td>0.240000</td>\n      <td>0.000000</td>\n      <td>0.000000</td>\n      <td>0.000000</td>\n      <td>0.000000e+00</td>\n      <td>0.000000</td>\n      <td>-2.294894e+00</td>\n      <td>-1.741486e+00</td>\n      <td>-1.970547e+00</td>\n      <td>-4.915672e-01</td>\n    </tr>\n    <tr>\n      <th>25%</th>\n      <td>1.635000</td>\n      <td>25.32500</td>\n      <td>17.125000</td>\n      <td>0.810000</td>\n      <td>8.300000</td>\n      <td>0.572500</td>\n      <td>0.000000</td>\n      <td>0.000000</td>\n      <td>0.000000</td>\n      <td>4.332100e+04</td>\n      <td>0.000000</td>\n      <td>-5.861871e-01</td>\n      <td>-7.870127e-01</td>\n      <td>-7.622965e-01</td>\n      <td>-4.915672e-01</td>\n    </tr>\n    <tr>\n      <th>50%</th>\n      <td>4.435000</td>\n      <td>25.90000</td>\n      <td>19.700000</td>\n      <td>1.185000</td>\n      <td>9.750000</td>\n      <td>0.795000</td>\n      <td>1.000000</td>\n      <td>0.000000</td>\n      <td>0.000000</td>\n      <td>4.077220e+05</td>\n      <td>0.000000</td>\n      <td>-1.238310e-01</td>\n      <td>-1.090075e-01</td>\n      <td>3.405071e-02</td>\n      <td>-4.763672e-01</td>\n    </tr>\n    <tr>\n      <th>75%</th>\n      <td>6.677500</td>\n      <td>26.75000</td>\n      <td>22.100000</td>\n      <td>1.767500</td>\n      <td>10.900000</td>\n      <td>1.257500</td>\n      <td>39.750000</td>\n      <td>1.000000</td>\n      <td>80828.000000</td>\n      <td>9.209770e+05</td>\n      <td>0.085000</td>\n      <td>5.596519e-01</td>\n      <td>5.229198e-01</td>\n      <td>6.656364e-01</td>\n      <td>1.126318e-01</td>\n    </tr>\n    <tr>\n      <th>max</th>\n      <td>37.250000</td>\n      <td>29.70000</td>\n      <td>30.700000</td>\n      <td>3.920000</td>\n      <td>13.500000</td>\n      <td>2.500000</td>\n      <td>381.000000</td>\n      <td>1.000000</td>\n      <td>490865.000000</td>\n      <td>3.880735e+06</td>\n      <td>0.570000</td>\n      <td>2.931739e+00</td>\n      <td>2.787326e+00</td>\n      <td>2.093569e+00</td>\n      <td>5.299623e+00</td>\n    </tr>\n  </tbody>\n</table>\n</div>"
     },
     "metadata": {},
     "execution_count": 65
    }
   ],
   "source": [
    "df.describe()"
   ]
  },
  {
   "cell_type": "code",
   "execution_count": null,
   "metadata": {},
   "outputs": [],
   "source": [
    "def from_df(df):\n",
    "    return dict(zip(df.columns, df.T.values))\n",
    "\n",
    "import inspect\n",
    "def run_mcmc(model, data, num_warmup=1000, num_samples=2000):\n",
    "    assert not set(data.keys()).difference(\n",
    "        inspect.getfullargspec(model)[0]\n",
    "    ), f\"not all cols {list(data.keys())} in model args\"\n",
    "    \n",
    "    kernel = NUTS(model)\n",
    "    mcmc = MCMC(kernel, num_warmup, num_samples)\n",
    "    mcmc.run(rng_key_, **data, extra_fields=[\"num_steps\", \"energy\"])\n",
    "    return mcmc"
   ]
  },
  {
   "cell_type": "code",
   "execution_count": null,
   "metadata": {
    "tags": []
   },
   "outputs": [],
   "source": [
    "def model(divorce_scaled=None, age_scaled=None, marriage_scaled=None, waffle_scaled=None, south=None):\n",
    "    a = numpyro.sample(\"a\", dist.Normal())\n",
    "    A,M,W,S = 0,0,0,0\n",
    "    if age_scaled is not None:\n",
    "        bA = numpyro.sample(\"bA\", dist.Normal())\n",
    "        A = bA * age_scaled\n",
    "    if marriage_scaled is not None:\n",
    "        bM = numpyro.sample(\"bM\", dist.Normal())\n",
    "        M = bM * marriage_scaled\n",
    "    if waffle_scaled is not None:\n",
    "        bW = numpyro.sample(\"bW\", dist.Normal())\n",
    "        W = bW * waffle_scaled\n",
    "    if south is not None:\n",
    "        bS = numpyro.sample(\"bS\", dist.Normal())\n",
    "        S = bS * south\n",
    "\n",
    "    mu = a + A + M + W + S\n",
    "    sigma = numpyro.sample('sigma', dist.Exponential(.1))\n",
    "\n",
    "    numpyro.sample(\"divorce_scaled\", dist.Normal(mu, sigma), obs=divorce_scaled)\n",
    "\n",
    "mcmc = run_mcmc(model, from_df(df[['age_scaled', 'waffle_scaled', 'marriage_scaled', 'south', 'divorce_scaled']]))\n",
    "mcmc.print_summary()\n",
    "post_samples = mcmc.get_samples()\n",
    "post_pred = Predictive(model, post_samples).get_samples(\n",
    "    random.PRNGKey(1), **from_df(df[['age_scaled', 'waffle_scaled', 'marriage_scaled', 'south']])\n",
    ")\n",
    "prior_pred = Predictive(model, num_samples=500).get_samples(\n",
    "    random.PRNGKey(2), **from_df(df[['age_scaled', 'waffle_scaled', 'marriage_scaled', 'south']])\n",
    ")"
   ]
  },
  {
   "cell_type": "code",
   "execution_count": null,
   "metadata": {
    "tags": []
   },
   "outputs": [],
   "source": [
    "az.plot_ppc(\n",
    "    az.from_numpyro(\n",
    "        mcmc,\n",
    "        prior=prior_pred,\n",
    "        posterior_predictive=post_pred,\n",
    "        # coords={\"school\": np.arange(eight_school_data[\"J\"])},\n",
    "        # dims={\"theta\": [\"school\"]},\n",
    "    )\n",
    ")"
   ]
  },
  {
   "cell_type": "code",
   "execution_count": null,
   "metadata": {},
   "outputs": [],
   "source": [
    "az.plot_ppc(az.from_numpyro(mcmc, prior=prior_pred), group=\"prior\", kind=\"kde\")"
   ]
  },
  {
   "cell_type": "code",
   "execution_count": null,
   "metadata": {},
   "outputs": [],
   "source": [
    "az.plot_forest(post_samples, hdi_prob=0.89)"
   ]
  },
  {
   "cell_type": "markdown",
   "metadata": {},
   "source": [
    "### 6h2"
   ]
  },
  {
   "cell_type": "code",
   "execution_count": 66,
   "metadata": {
    "tags": []
   },
   "outputs": [
    {
     "output_type": "stream",
     "name": "stdout",
     "text": "('A', 'W', {'S'})\n('S', 'D', {'A', 'M', 'W'})\n('M', 'W', {'S'})\n"
    },
    {
     "output_type": "display_data",
     "data": {
      "text/plain": "<Figure size 212.598x212.598 with 1 Axes>",
      "image/svg+xml": "<?xml version=\"1.0\" encoding=\"utf-8\" standalone=\"no\"?>\n<!DOCTYPE svg PUBLIC \"-//W3C//DTD SVG 1.1//EN\"\n  \"http://www.w3.org/Graphics/SVG/1.1/DTD/svg11.dtd\">\n<!-- Created with matplotlib (https://matplotlib.org/) -->\n<svg height=\"167.470866pt\" version=\"1.1\" viewBox=\"0 0 167.470866 167.470866\" width=\"167.470866pt\" xmlns=\"http://www.w3.org/2000/svg\" xmlns:xlink=\"http://www.w3.org/1999/xlink\">\n <metadata>\n  <rdf:RDF xmlns:cc=\"http://creativecommons.org/ns#\" xmlns:dc=\"http://purl.org/dc/elements/1.1/\" xmlns:rdf=\"http://www.w3.org/1999/02/22-rdf-syntax-ns#\">\n   <cc:Work>\n    <dc:type rdf:resource=\"http://purl.org/dc/dcmitype/StillImage\"/>\n    <dc:date>2020-08-17T19:48:24.401574</dc:date>\n    <dc:format>image/svg+xml</dc:format>\n    <dc:creator>\n     <cc:Agent>\n      <dc:title>Matplotlib v3.3.1, https://matplotlib.org/</dc:title>\n     </cc:Agent>\n    </dc:creator>\n   </cc:Work>\n  </rdf:RDF>\n </metadata>\n <defs>\n  <style type=\"text/css\">*{stroke-linecap:butt;stroke-linejoin:round;}</style>\n </defs>\n <g id=\"figure_1\">\n  <g id=\"patch_1\">\n   <path d=\"M 0 167.470866 \nL 167.470866 167.470866 \nL 167.470866 -0 \nL 0 -0 \nz\n\" style=\"fill:#ffffff;\"/>\n  </g>\n  <g id=\"axes_1\">\n   <g id=\"matplotlib.axis_1\"/>\n   <g id=\"matplotlib.axis_2\"/>\n   <g id=\"patch_2\">\n    <path clip-path=\"url(#p6686dd4465)\" d=\"M 126.255118 140.428346 \nL 119.168504 141.845669 \nL 119.168504 140.428346 \nL 41.215748 140.428346 \nL 41.215748 140.428346 \nL 119.168504 140.428346 \nL 119.168504 139.011024 \nz\n\" style=\"stroke:#000000;stroke-linejoin:miter;\"/>\n   </g>\n   <g id=\"patch_3\">\n    <path clip-path=\"url(#p6686dd4465)\" d=\"M 27.04252 41.215748 \nL 28.459843 48.302362 \nL 27.04252 48.302362 \nL 27.04252 126.255118 \nL 27.04252 126.255118 \nL 27.04252 48.302362 \nL 25.625197 48.302362 \nz\n\" style=\"stroke:#000000;stroke-linejoin:miter;\"/>\n   </g>\n   <g id=\"patch_4\">\n    <path clip-path=\"url(#p6686dd4465)\" d=\"M 73.713447 93.757419 \nL 69.704653 99.77061 \nL 68.702454 98.768412 \nL 37.064506 130.406361 \nL 37.064506 130.406361 \nL 68.702454 98.768412 \nL 67.700256 97.766213 \nz\n\" style=\"stroke:#000000;stroke-linejoin:miter;\"/>\n   </g>\n   <g id=\"patch_5\">\n    <path clip-path=\"url(#p6686dd4465)\" d=\"M 73.713447 73.713447 \nL 67.700256 69.704653 \nL 68.702454 68.702454 \nL 37.064506 37.064506 \nL 37.064506 37.064506 \nL 68.702454 68.702454 \nL 69.704653 67.700256 \nz\n\" style=\"stroke:#000000;stroke-linejoin:miter;\"/>\n   </g>\n   <g id=\"patch_6\">\n    <path clip-path=\"url(#p6686dd4465)\" d=\"M 126.255118 27.04252 \nL 119.168504 28.459843 \nL 119.168504 27.04252 \nL 41.215748 27.04252 \nL 41.215748 27.04252 \nL 119.168504 27.04252 \nL 119.168504 25.625197 \nz\n\" style=\"stroke:#000000;stroke-linejoin:miter;\"/>\n   </g>\n   <g id=\"patch_7\">\n    <path clip-path=\"url(#p6686dd4465)\" d=\"M 130.406361 37.064506 \nL 126.397566 43.077697 \nL 125.395368 42.075498 \nL 93.757419 73.713447 \nL 93.757419 73.713447 \nL 125.395368 42.075498 \nL 124.393169 41.0733 \nz\n\" style=\"stroke:#000000;stroke-linejoin:miter;\"/>\n   </g>\n   <g id=\"patch_8\">\n    <path clip-path=\"url(#p6686dd4465)\" d=\"M 140.428346 41.215748 \nL 141.845669 48.302362 \nL 140.428346 48.302362 \nL 140.428346 126.255118 \nL 140.428346 126.255118 \nL 140.428346 48.302362 \nL 139.011024 48.302362 \nz\n\" style=\"stroke:#000000;stroke-linejoin:miter;\"/>\n   </g>\n   <g id=\"patch_9\">\n    <path clip-path=\"url(#p6686dd4465)\" d=\"M 27.04252 154.601575 \nC 30.801304 154.601575 34.406644 153.108194 37.064506 150.450332 \nC 39.722367 147.792471 41.215748 144.187131 41.215748 140.428346 \nC 41.215748 136.669562 39.722367 133.064222 37.064506 130.406361 \nC 34.406644 127.748499 30.801304 126.255118 27.04252 126.255118 \nC 23.283736 126.255118 19.678396 127.748499 17.020534 130.406361 \nC 14.362672 133.064222 12.869291 136.669562 12.869291 140.428346 \nC 12.869291 144.187131 14.362672 147.792471 17.020534 150.450332 \nC 19.678396 153.108194 23.283736 154.601575 27.04252 154.601575 \nz\n\" style=\"fill:none;stroke:#000000;stroke-linejoin:miter;\"/>\n   </g>\n   <g id=\"patch_10\">\n    <path clip-path=\"url(#p6686dd4465)\" d=\"M 27.04252 41.215748 \nC 30.801304 41.215748 34.406644 39.722367 37.064506 37.064506 \nC 39.722367 34.406644 41.215748 30.801304 41.215748 27.04252 \nC 41.215748 23.283736 39.722367 19.678396 37.064506 17.020534 \nC 34.406644 14.362672 30.801304 12.869291 27.04252 12.869291 \nC 23.283736 12.869291 19.678396 14.362672 17.020534 17.020534 \nC 14.362672 19.678396 12.869291 23.283736 12.869291 27.04252 \nC 12.869291 30.801304 14.362672 34.406644 17.020534 37.064506 \nC 19.678396 39.722367 23.283736 41.215748 27.04252 41.215748 \nz\n\" style=\"fill:none;stroke:#000000;stroke-linejoin:miter;\"/>\n   </g>\n   <g id=\"patch_11\">\n    <path clip-path=\"url(#p6686dd4465)\" d=\"M 83.735433 97.908661 \nC 87.494217 97.908661 91.099557 96.415281 93.757419 93.757419 \nC 96.415281 91.099557 97.908661 87.494217 97.908661 83.735433 \nC 97.908661 79.976649 96.415281 76.371309 93.757419 73.713447 \nC 91.099557 71.055585 87.494217 69.562205 83.735433 69.562205 \nC 79.976649 69.562205 76.371309 71.055585 73.713447 73.713447 \nC 71.055585 76.371309 69.562205 79.976649 69.562205 83.735433 \nC 69.562205 87.494217 71.055585 91.099557 73.713447 93.757419 \nC 76.371309 96.415281 79.976649 97.908661 83.735433 97.908661 \nz\n\" style=\"fill:none;stroke:#000000;stroke-linejoin:miter;\"/>\n   </g>\n   <g id=\"patch_12\">\n    <path clip-path=\"url(#p6686dd4465)\" d=\"M 140.428346 41.215748 \nC 144.187131 41.215748 147.792471 39.722367 150.450332 37.064506 \nC 153.108194 34.406644 154.601575 30.801304 154.601575 27.04252 \nC 154.601575 23.283736 153.108194 19.678396 150.450332 17.020534 \nC 147.792471 14.362672 144.187131 12.869291 140.428346 12.869291 \nC 136.669562 12.869291 133.064222 14.362672 130.406361 17.020534 \nC 127.748499 19.678396 126.255118 23.283736 126.255118 27.04252 \nC 126.255118 30.801304 127.748499 34.406644 130.406361 37.064506 \nC 133.064222 39.722367 136.669562 41.215748 140.428346 41.215748 \nz\n\" style=\"fill:none;stroke:#000000;stroke-linejoin:miter;\"/>\n   </g>\n   <g id=\"patch_13\">\n    <path clip-path=\"url(#p6686dd4465)\" d=\"M 140.428346 154.601575 \nC 144.187131 154.601575 147.792471 153.108194 150.450332 150.450332 \nC 153.108194 147.792471 154.601575 144.187131 154.601575 140.428346 \nC 154.601575 136.669562 153.108194 133.064222 150.450332 130.406361 \nC 147.792471 127.748499 144.187131 126.255118 140.428346 126.255118 \nC 136.669562 126.255118 133.064222 127.748499 130.406361 130.406361 \nC 127.748499 133.064222 126.255118 136.669562 126.255118 140.428346 \nC 126.255118 144.187131 127.748499 147.792471 130.406361 150.450332 \nC 133.064222 153.108194 136.669562 154.601575 140.428346 154.601575 \nz\n\" style=\"fill:none;stroke:#000000;stroke-linejoin:miter;\"/>\n   </g>\n   <g id=\"text_1\">\n    <!-- S -->\n    <g style=\"fill:#262626;\" transform=\"translate(23.868301 143.187721)scale(0.1 -0.1)\">\n     <defs>\n      <path d=\"M 53.515625 70.515625 \nL 53.515625 60.890625 \nQ 47.90625 63.578125 42.921875 64.890625 \nQ 37.9375 66.21875 33.296875 66.21875 \nQ 25.25 66.21875 20.875 63.09375 \nQ 16.5 59.96875 16.5 54.203125 \nQ 16.5 49.359375 19.40625 46.890625 \nQ 22.3125 44.4375 30.421875 42.921875 \nL 36.375 41.703125 \nQ 47.40625 39.59375 52.65625 34.296875 \nQ 57.90625 29 57.90625 20.125 \nQ 57.90625 9.515625 50.796875 4.046875 \nQ 43.703125 -1.421875 29.984375 -1.421875 \nQ 24.8125 -1.421875 18.96875 -0.25 \nQ 13.140625 0.921875 6.890625 3.21875 \nL 6.890625 13.375 \nQ 12.890625 10.015625 18.65625 8.296875 \nQ 24.421875 6.59375 29.984375 6.59375 \nQ 38.421875 6.59375 43.015625 9.90625 \nQ 47.609375 13.234375 47.609375 19.390625 \nQ 47.609375 24.75 44.3125 27.78125 \nQ 41.015625 30.8125 33.5 32.328125 \nL 27.484375 33.5 \nQ 16.453125 35.6875 11.515625 40.375 \nQ 6.59375 45.0625 6.59375 53.421875 \nQ 6.59375 63.09375 13.40625 68.65625 \nQ 20.21875 74.21875 32.171875 74.21875 \nQ 37.3125 74.21875 42.625 73.28125 \nQ 47.953125 72.359375 53.515625 70.515625 \nz\n\" id=\"DejaVuSans-83\"/>\n     </defs>\n     <use xlink:href=\"#DejaVuSans-83\"/>\n    </g>\n   </g>\n   <g id=\"text_2\">\n    <!-- A -->\n    <g style=\"fill:#262626;\" transform=\"translate(23.622207 29.801895)scale(0.1 -0.1)\">\n     <defs>\n      <path d=\"M 34.1875 63.1875 \nL 20.796875 26.90625 \nL 47.609375 26.90625 \nz\nM 28.609375 72.90625 \nL 39.796875 72.90625 \nL 67.578125 0 \nL 57.328125 0 \nL 50.6875 18.703125 \nL 17.828125 18.703125 \nL 11.1875 0 \nL 0.78125 0 \nz\n\" id=\"DejaVuSans-65\"/>\n     </defs>\n     <use xlink:href=\"#DejaVuSans-65\"/>\n    </g>\n   </g>\n   <g id=\"text_3\">\n    <!-- M -->\n    <g style=\"fill:#262626;\" transform=\"translate(79.421371 86.494808)scale(0.1 -0.1)\">\n     <defs>\n      <path d=\"M 9.8125 72.90625 \nL 24.515625 72.90625 \nL 43.109375 23.296875 \nL 61.8125 72.90625 \nL 76.515625 72.90625 \nL 76.515625 0 \nL 66.890625 0 \nL 66.890625 64.015625 \nL 48.09375 14.015625 \nL 38.1875 14.015625 \nL 19.390625 64.015625 \nL 19.390625 0 \nL 9.8125 0 \nz\n\" id=\"DejaVuSans-77\"/>\n     </defs>\n     <use xlink:href=\"#DejaVuSans-77\"/>\n    </g>\n   </g>\n   <g id=\"text_4\">\n    <!-- D -->\n    <g style=\"fill:#262626;\" transform=\"translate(136.578346 29.801895)scale(0.1 -0.1)\">\n     <defs>\n      <path d=\"M 19.671875 64.796875 \nL 19.671875 8.109375 \nL 31.59375 8.109375 \nQ 46.6875 8.109375 53.6875 14.9375 \nQ 60.6875 21.78125 60.6875 36.53125 \nQ 60.6875 51.171875 53.6875 57.984375 \nQ 46.6875 64.796875 31.59375 64.796875 \nz\nM 9.8125 72.90625 \nL 30.078125 72.90625 \nQ 51.265625 72.90625 61.171875 64.09375 \nQ 71.09375 55.28125 71.09375 36.53125 \nQ 71.09375 17.671875 61.125 8.828125 \nQ 51.171875 0 30.078125 0 \nL 9.8125 0 \nz\n\" id=\"DejaVuSans-68\"/>\n     </defs>\n     <use xlink:href=\"#DejaVuSans-68\"/>\n    </g>\n   </g>\n   <g id=\"text_5\">\n    <!-- W -->\n    <g style=\"fill:#262626;\" transform=\"translate(135.484596 143.187721)scale(0.1 -0.1)\">\n     <defs>\n      <path d=\"M 3.328125 72.90625 \nL 13.28125 72.90625 \nL 28.609375 11.28125 \nL 43.890625 72.90625 \nL 54.984375 72.90625 \nL 70.3125 11.28125 \nL 85.59375 72.90625 \nL 95.609375 72.90625 \nL 77.296875 0 \nL 64.890625 0 \nL 49.515625 63.28125 \nL 33.984375 0 \nL 21.578125 0 \nz\n\" id=\"DejaVuSans-87\"/>\n     </defs>\n     <use xlink:href=\"#DejaVuSans-87\"/>\n    </g>\n   </g>\n  </g>\n </g>\n <defs>\n  <clipPath id=\"p6686dd4465\">\n   <rect height=\"153.070866\" width=\"153.070866\" x=\"7.2\" y=\"7.2\"/>\n  </clipPath>\n </defs>\n</svg>\n"
     },
     "metadata": {}
    }
   ],
   "source": [
    "wd_dag = CausalGraphicalModel(\n",
    "    nodes=[\"S\", \"A\", \"M\", \"D\", \"W\"],\n",
    "    edges=[\n",
    "        (\"S\", \"W\"), (\"W\", \"D\"), (\"S\", \"A\"), (\"A\", \"M\"), (\"S\", \"M\"), (\"M\", \"D\"), (\"A\", \"D\")\n",
    "    ]\n",
    ")\n",
    "pgm = daft.PGM()\n",
    "coordinates = {\"S\": (0, 0), \"W\": (2, 0), \"A\": (0, 2), \"M\": (1, 1), \"D\": (2,2)}\n",
    "for node in wd_dag.dag.nodes:\n",
    "    pgm.add_node(node, node, *coordinates[node])\n",
    "for edge in wd_dag.dag.edges:\n",
    "    pgm.add_edge(*edge)\n",
    "with plt.rc_context({\"figure.constrained_layout.use\": False}):\n",
    "    pgm.render()\n",
    "\n",
    "all_independencies = wd_dag.get_all_independence_relationships()\n",
    "for s in all_independencies:\n",
    "    if all(\n",
    "        t[0] != s[0] or t[1] != s[1] or not t[2].issubset(s[2])\n",
    "        for t in all_independencies\n",
    "        if t != s\n",
    "    ):\n",
    "        print(s)"
   ]
  },
  {
   "cell_type": "code",
   "execution_count": 70,
   "metadata": {
    "tags": []
   },
   "outputs": [
    {
     "output_type": "stream",
     "name": "stderr",
     "text": "sample: 100%|██████████| 3000/3000 [00:08<00:00, 369.39it/s, 3 steps of size 6.51e-01. acc. prob=0.91]\n\n                mean       std    median      5.0%     95.0%     n_eff     r_hat\n         a     -0.41      0.13     -0.40     -0.62     -0.20   1542.82      1.00\n        bA      0.04      0.11      0.04     -0.16      0.21   1652.67      1.00\n        bS      1.45      0.25      1.45      1.07      1.86   1230.55      1.00\n     sigma      0.76      0.08      0.75      0.62      0.88   1084.49      1.00\n\nNumber of divergences: 0\n"
    }
   ],
   "source": [
    "def model(waffle_scaled=None, age_scaled=None, south=None):\n",
    "    a = numpyro.sample(\"a\", dist.Normal())\n",
    "    A,S = 0,0\n",
    "    if age_scaled is not None:\n",
    "        bA = numpyro.sample(\"bA\", dist.Normal())\n",
    "        A = bA * age_scaled\n",
    "    if south is not None:\n",
    "        bS = numpyro.sample(\"bS\", dist.Normal())\n",
    "        S = bS * south\n",
    "\n",
    "    mu = a + A + S\n",
    "    sigma = numpyro.sample('sigma', dist.Exponential(1))\n",
    "\n",
    "    numpyro.sample(\"marriage_scaled\", dist.Normal(mu, sigma), obs=waffle_scaled)\n",
    "\n",
    "mcmc = run_mcmc(model, from_df(df[['waffle_scaled','age_scaled', 'south']]))\n",
    "mcmc.print_summary()\n",
    "post_samples = mcmc.get_samples()"
   ]
  },
  {
   "cell_type": "code",
   "execution_count": 72,
   "metadata": {
    "tags": []
   },
   "outputs": [
    {
     "output_type": "stream",
     "name": "stderr",
     "text": "sample: 100%|██████████| 3000/3000 [00:06<00:00, 461.44it/s, 3 steps of size 7.14e-01. acc. prob=0.88]\n\n                mean       std    median      5.0%     95.0%     n_eff     r_hat\n         a     -0.39      0.12     -0.39     -0.59     -0.18   1598.80      1.00\n        bM     -0.03      0.11     -0.03     -0.20      0.15   1441.93      1.00\n        bS      1.42      0.24      1.43      0.99      1.77   1554.27      1.00\n     sigma      0.76      0.08      0.75      0.61      0.87   1705.39      1.00\n\nNumber of divergences: 0\n"
    }
   ],
   "source": [
    "def model(waffle_scaled=None, marriage_scaled=None, south=None):\n",
    "    a = numpyro.sample(\"a\", dist.Normal())\n",
    "    M,S = 0,0\n",
    "    if marriage_scaled is not None:\n",
    "        bM = numpyro.sample(\"bM\", dist.Normal())\n",
    "        M = bM * marriage_scaled\n",
    "    if south is not None:\n",
    "        bS = numpyro.sample(\"bS\", dist.Normal())\n",
    "        S = bS * south\n",
    "\n",
    "    mu = a + M + S\n",
    "    sigma = numpyro.sample('sigma', dist.Exponential(1))\n",
    "\n",
    "    numpyro.sample(\"marriage_scaled\", dist.Normal(mu, sigma), obs=waffle_scaled)\n",
    "\n",
    "mcmc = run_mcmc(model, from_df(df[['waffle_scaled','marriage_scaled', 'south']]))\n",
    "mcmc.print_summary()\n",
    "post_samples = mcmc.get_samples()"
   ]
  },
  {
   "cell_type": "code",
   "execution_count": 74,
   "metadata": {
    "tags": []
   },
   "outputs": [
    {
     "output_type": "stream",
     "name": "stdout",
     "text": "('A', 'W', {'S'})\n('M', 'W', {'S'})\n"
    },
    {
     "output_type": "display_data",
     "data": {
      "text/plain": "<Figure size 212.598x212.598 with 1 Axes>",
      "image/svg+xml": "<?xml version=\"1.0\" encoding=\"utf-8\" standalone=\"no\"?>\n<!DOCTYPE svg PUBLIC \"-//W3C//DTD SVG 1.1//EN\"\n  \"http://www.w3.org/Graphics/SVG/1.1/DTD/svg11.dtd\">\n<!-- Created with matplotlib (https://matplotlib.org/) -->\n<svg height=\"167.470866pt\" version=\"1.1\" viewBox=\"0 0 167.470866 167.470866\" width=\"167.470866pt\" xmlns=\"http://www.w3.org/2000/svg\" xmlns:xlink=\"http://www.w3.org/1999/xlink\">\n <metadata>\n  <rdf:RDF xmlns:cc=\"http://creativecommons.org/ns#\" xmlns:dc=\"http://purl.org/dc/elements/1.1/\" xmlns:rdf=\"http://www.w3.org/1999/02/22-rdf-syntax-ns#\">\n   <cc:Work>\n    <dc:type rdf:resource=\"http://purl.org/dc/dcmitype/StillImage\"/>\n    <dc:date>2020-08-17T20:01:31.549172</dc:date>\n    <dc:format>image/svg+xml</dc:format>\n    <dc:creator>\n     <cc:Agent>\n      <dc:title>Matplotlib v3.3.1, https://matplotlib.org/</dc:title>\n     </cc:Agent>\n    </dc:creator>\n   </cc:Work>\n  </rdf:RDF>\n </metadata>\n <defs>\n  <style type=\"text/css\">*{stroke-linecap:butt;stroke-linejoin:round;}</style>\n </defs>\n <g id=\"figure_1\">\n  <g id=\"patch_1\">\n   <path d=\"M 0 167.470866 \nL 167.470866 167.470866 \nL 167.470866 -0 \nL 0 -0 \nz\n\" style=\"fill:#ffffff;\"/>\n  </g>\n  <g id=\"axes_1\">\n   <g id=\"matplotlib.axis_1\"/>\n   <g id=\"matplotlib.axis_2\"/>\n   <g id=\"patch_2\">\n    <path clip-path=\"url(#p8b592acc97)\" d=\"M 126.255118 140.428346 \nL 119.168504 141.845669 \nL 119.168504 140.428346 \nL 41.215748 140.428346 \nL 41.215748 140.428346 \nL 119.168504 140.428346 \nL 119.168504 139.011024 \nz\n\" style=\"stroke:#000000;stroke-linejoin:miter;\"/>\n   </g>\n   <g id=\"patch_3\">\n    <path clip-path=\"url(#p8b592acc97)\" d=\"M 27.04252 41.215748 \nL 28.459843 48.302362 \nL 27.04252 48.302362 \nL 27.04252 126.255118 \nL 27.04252 126.255118 \nL 27.04252 48.302362 \nL 25.625197 48.302362 \nz\n\" style=\"stroke:#000000;stroke-linejoin:miter;\"/>\n   </g>\n   <g id=\"patch_4\">\n    <path clip-path=\"url(#p8b592acc97)\" d=\"M 73.713447 93.757419 \nL 69.704653 99.77061 \nL 68.702454 98.768412 \nL 37.064506 130.406361 \nL 37.064506 130.406361 \nL 68.702454 98.768412 \nL 67.700256 97.766213 \nz\n\" style=\"stroke:#000000;stroke-linejoin:miter;\"/>\n   </g>\n   <g id=\"patch_5\">\n    <path clip-path=\"url(#p8b592acc97)\" d=\"M 127.751426 90.073893 \nL 122.046811 94.510816 \nL 121.412965 93.243124 \nL 39.719441 134.089886 \nL 39.719441 134.089886 \nL 121.412965 93.243124 \nL 120.779119 91.975432 \nz\n\" style=\"stroke:#000000;stroke-linejoin:miter;\"/>\n   </g>\n   <g id=\"patch_6\">\n    <path clip-path=\"url(#p8b592acc97)\" d=\"M 73.713447 73.713447 \nL 67.700256 69.704653 \nL 68.702454 68.702454 \nL 37.064506 37.064506 \nL 37.064506 37.064506 \nL 68.702454 68.702454 \nL 69.704653 67.700256 \nz\n\" style=\"stroke:#000000;stroke-linejoin:miter;\"/>\n   </g>\n   <g id=\"patch_7\">\n    <path clip-path=\"url(#p8b592acc97)\" d=\"M 127.751426 77.396973 \nL 120.779119 75.495435 \nL 121.412965 74.227742 \nL 39.719441 33.38098 \nL 39.719441 33.38098 \nL 121.412965 74.227742 \nL 122.046811 72.96005 \nz\n\" style=\"stroke:#000000;stroke-linejoin:miter;\"/>\n   </g>\n   <g id=\"patch_8\">\n    <path clip-path=\"url(#p8b592acc97)\" d=\"M 126.255118 83.735433 \nL 119.168504 85.152756 \nL 119.168504 83.735433 \nL 97.908661 83.735433 \nL 97.908661 83.735433 \nL 119.168504 83.735433 \nL 119.168504 82.31811 \nz\n\" style=\"stroke:#000000;stroke-linejoin:miter;\"/>\n   </g>\n   <g id=\"patch_9\">\n    <path clip-path=\"url(#p8b592acc97)\" d=\"M 140.428346 97.908661 \nL 141.845669 104.995276 \nL 140.428346 104.995276 \nL 140.428346 126.255118 \nL 140.428346 126.255118 \nL 140.428346 104.995276 \nL 139.011024 104.995276 \nz\n\" style=\"stroke:#000000;stroke-linejoin:miter;\"/>\n   </g>\n   <g id=\"patch_10\">\n    <path clip-path=\"url(#p8b592acc97)\" d=\"M 27.04252 154.601575 \nC 30.801304 154.601575 34.406644 153.108194 37.064506 150.450332 \nC 39.722367 147.792471 41.215748 144.187131 41.215748 140.428346 \nC 41.215748 136.669562 39.722367 133.064222 37.064506 130.406361 \nC 34.406644 127.748499 30.801304 126.255118 27.04252 126.255118 \nC 23.283736 126.255118 19.678396 127.748499 17.020534 130.406361 \nC 14.362672 133.064222 12.869291 136.669562 12.869291 140.428346 \nC 12.869291 144.187131 14.362672 147.792471 17.020534 150.450332 \nC 19.678396 153.108194 23.283736 154.601575 27.04252 154.601575 \nz\n\" style=\"fill:none;stroke:#000000;stroke-linejoin:miter;\"/>\n   </g>\n   <g id=\"patch_11\">\n    <path clip-path=\"url(#p8b592acc97)\" d=\"M 27.04252 41.215748 \nC 30.801304 41.215748 34.406644 39.722367 37.064506 37.064506 \nC 39.722367 34.406644 41.215748 30.801304 41.215748 27.04252 \nC 41.215748 23.283736 39.722367 19.678396 37.064506 17.020534 \nC 34.406644 14.362672 30.801304 12.869291 27.04252 12.869291 \nC 23.283736 12.869291 19.678396 14.362672 17.020534 17.020534 \nC 14.362672 19.678396 12.869291 23.283736 12.869291 27.04252 \nC 12.869291 30.801304 14.362672 34.406644 17.020534 37.064506 \nC 19.678396 39.722367 23.283736 41.215748 27.04252 41.215748 \nz\n\" style=\"fill:none;stroke:#000000;stroke-linejoin:miter;\"/>\n   </g>\n   <g id=\"patch_12\">\n    <path clip-path=\"url(#p8b592acc97)\" d=\"M 83.735433 97.908661 \nC 87.494217 97.908661 91.099557 96.415281 93.757419 93.757419 \nC 96.415281 91.099557 97.908661 87.494217 97.908661 83.735433 \nC 97.908661 79.976649 96.415281 76.371309 93.757419 73.713447 \nC 91.099557 71.055585 87.494217 69.562205 83.735433 69.562205 \nC 79.976649 69.562205 76.371309 71.055585 73.713447 73.713447 \nC 71.055585 76.371309 69.562205 79.976649 69.562205 83.735433 \nC 69.562205 87.494217 71.055585 91.099557 73.713447 93.757419 \nC 76.371309 96.415281 79.976649 97.908661 83.735433 97.908661 \nz\n\" style=\"fill:none;stroke:#000000;stroke-linejoin:miter;\"/>\n   </g>\n   <g id=\"patch_13\">\n    <path clip-path=\"url(#p8b592acc97)\" d=\"M 140.428346 97.908661 \nC 144.187131 97.908661 147.792471 96.415281 150.450332 93.757419 \nC 153.108194 91.099557 154.601575 87.494217 154.601575 83.735433 \nC 154.601575 79.976649 153.108194 76.371309 150.450332 73.713447 \nC 147.792471 71.055585 144.187131 69.562205 140.428346 69.562205 \nC 136.669562 69.562205 133.064222 71.055585 130.406361 73.713447 \nC 127.748499 76.371309 126.255118 79.976649 126.255118 83.735433 \nC 126.255118 87.494217 127.748499 91.099557 130.406361 93.757419 \nC 133.064222 96.415281 136.669562 97.908661 140.428346 97.908661 \nz\n\" style=\"fill:none;stroke:#000000;stroke-linejoin:miter;\"/>\n   </g>\n   <g id=\"patch_14\">\n    <path clip-path=\"url(#p8b592acc97)\" d=\"M 140.428346 154.601575 \nC 144.187131 154.601575 147.792471 153.108194 150.450332 150.450332 \nC 153.108194 147.792471 154.601575 144.187131 154.601575 140.428346 \nC 154.601575 136.669562 153.108194 133.064222 150.450332 130.406361 \nC 147.792471 127.748499 144.187131 126.255118 140.428346 126.255118 \nC 136.669562 126.255118 133.064222 127.748499 130.406361 130.406361 \nC 127.748499 133.064222 126.255118 136.669562 126.255118 140.428346 \nC 126.255118 144.187131 127.748499 147.792471 130.406361 150.450332 \nC 133.064222 153.108194 136.669562 154.601575 140.428346 154.601575 \nz\n\" style=\"fill:none;stroke:#000000;stroke-linejoin:miter;\"/>\n   </g>\n   <g id=\"text_1\">\n    <!-- S -->\n    <g style=\"fill:#262626;\" transform=\"translate(23.868301 143.187721)scale(0.1 -0.1)\">\n     <defs>\n      <path d=\"M 53.515625 70.515625 \nL 53.515625 60.890625 \nQ 47.90625 63.578125 42.921875 64.890625 \nQ 37.9375 66.21875 33.296875 66.21875 \nQ 25.25 66.21875 20.875 63.09375 \nQ 16.5 59.96875 16.5 54.203125 \nQ 16.5 49.359375 19.40625 46.890625 \nQ 22.3125 44.4375 30.421875 42.921875 \nL 36.375 41.703125 \nQ 47.40625 39.59375 52.65625 34.296875 \nQ 57.90625 29 57.90625 20.125 \nQ 57.90625 9.515625 50.796875 4.046875 \nQ 43.703125 -1.421875 29.984375 -1.421875 \nQ 24.8125 -1.421875 18.96875 -0.25 \nQ 13.140625 0.921875 6.890625 3.21875 \nL 6.890625 13.375 \nQ 12.890625 10.015625 18.65625 8.296875 \nQ 24.421875 6.59375 29.984375 6.59375 \nQ 38.421875 6.59375 43.015625 9.90625 \nQ 47.609375 13.234375 47.609375 19.390625 \nQ 47.609375 24.75 44.3125 27.78125 \nQ 41.015625 30.8125 33.5 32.328125 \nL 27.484375 33.5 \nQ 16.453125 35.6875 11.515625 40.375 \nQ 6.59375 45.0625 6.59375 53.421875 \nQ 6.59375 63.09375 13.40625 68.65625 \nQ 20.21875 74.21875 32.171875 74.21875 \nQ 37.3125 74.21875 42.625 73.28125 \nQ 47.953125 72.359375 53.515625 70.515625 \nz\n\" id=\"DejaVuSans-83\"/>\n     </defs>\n     <use xlink:href=\"#DejaVuSans-83\"/>\n    </g>\n   </g>\n   <g id=\"text_2\">\n    <!-- A -->\n    <g style=\"fill:#262626;\" transform=\"translate(23.622207 29.801895)scale(0.1 -0.1)\">\n     <defs>\n      <path d=\"M 34.1875 63.1875 \nL 20.796875 26.90625 \nL 47.609375 26.90625 \nz\nM 28.609375 72.90625 \nL 39.796875 72.90625 \nL 67.578125 0 \nL 57.328125 0 \nL 50.6875 18.703125 \nL 17.828125 18.703125 \nL 11.1875 0 \nL 0.78125 0 \nz\n\" id=\"DejaVuSans-65\"/>\n     </defs>\n     <use xlink:href=\"#DejaVuSans-65\"/>\n    </g>\n   </g>\n   <g id=\"text_3\">\n    <!-- M -->\n    <g style=\"fill:#262626;\" transform=\"translate(79.421371 86.494808)scale(0.1 -0.1)\">\n     <defs>\n      <path d=\"M 9.8125 72.90625 \nL 24.515625 72.90625 \nL 43.109375 23.296875 \nL 61.8125 72.90625 \nL 76.515625 72.90625 \nL 76.515625 0 \nL 66.890625 0 \nL 66.890625 64.015625 \nL 48.09375 14.015625 \nL 38.1875 14.015625 \nL 19.390625 64.015625 \nL 19.390625 0 \nL 9.8125 0 \nz\n\" id=\"DejaVuSans-77\"/>\n     </defs>\n     <use xlink:href=\"#DejaVuSans-77\"/>\n    </g>\n   </g>\n   <g id=\"text_4\">\n    <!-- D -->\n    <g style=\"fill:#262626;\" transform=\"translate(136.578346 86.494808)scale(0.1 -0.1)\">\n     <defs>\n      <path d=\"M 19.671875 64.796875 \nL 19.671875 8.109375 \nL 31.59375 8.109375 \nQ 46.6875 8.109375 53.6875 14.9375 \nQ 60.6875 21.78125 60.6875 36.53125 \nQ 60.6875 51.171875 53.6875 57.984375 \nQ 46.6875 64.796875 31.59375 64.796875 \nz\nM 9.8125 72.90625 \nL 30.078125 72.90625 \nQ 51.265625 72.90625 61.171875 64.09375 \nQ 71.09375 55.28125 71.09375 36.53125 \nQ 71.09375 17.671875 61.125 8.828125 \nQ 51.171875 0 30.078125 0 \nL 9.8125 0 \nz\n\" id=\"DejaVuSans-68\"/>\n     </defs>\n     <use xlink:href=\"#DejaVuSans-68\"/>\n    </g>\n   </g>\n   <g id=\"text_5\">\n    <!-- W -->\n    <g style=\"fill:#262626;\" transform=\"translate(135.484596 143.187721)scale(0.1 -0.1)\">\n     <defs>\n      <path d=\"M 3.328125 72.90625 \nL 13.28125 72.90625 \nL 28.609375 11.28125 \nL 43.890625 72.90625 \nL 54.984375 72.90625 \nL 70.3125 11.28125 \nL 85.59375 72.90625 \nL 95.609375 72.90625 \nL 77.296875 0 \nL 64.890625 0 \nL 49.515625 63.28125 \nL 33.984375 0 \nL 21.578125 0 \nz\n\" id=\"DejaVuSans-87\"/>\n     </defs>\n     <use xlink:href=\"#DejaVuSans-87\"/>\n    </g>\n   </g>\n  </g>\n </g>\n <defs>\n  <clipPath id=\"p8b592acc97\">\n   <rect height=\"153.070866\" width=\"153.070866\" x=\"7.2\" y=\"7.2\"/>\n  </clipPath>\n </defs>\n</svg>\n"
     },
     "metadata": {}
    }
   ],
   "source": [
    "wd_dag = CausalGraphicalModel(\n",
    "    nodes=[\"S\", \"A\", \"M\", \"D\", \"W\"],\n",
    "    edges=[\n",
    "        (\"S\", \"W\"), (\"W\", \"D\"), (\"S\", \"A\"), (\"A\", \"M\"), (\"S\", \"M\"), (\"M\", \"D\"), (\"A\", \"D\"),\n",
    "        (\"S\", \"D\")\n",
    "    ]\n",
    ")\n",
    "pgm = daft.PGM()\n",
    "coordinates = {\"S\": (0, 0), \"W\": (2, 0), \"A\": (0, 2), \"M\": (1, 1), \"D\": (2,1)}\n",
    "for node in wd_dag.dag.nodes:\n",
    "    pgm.add_node(node, node, *coordinates[node])\n",
    "for edge in wd_dag.dag.edges:\n",
    "    pgm.add_edge(*edge)\n",
    "with plt.rc_context({\"figure.constrained_layout.use\": False}):\n",
    "    pgm.render()\n",
    "\n",
    "all_independencies = wd_dag.get_all_independence_relationships()\n",
    "for s in all_independencies:\n",
    "    if all(\n",
    "        t[0] != s[0] or t[1] != s[1] or not t[2].issubset(s[2])\n",
    "        for t in all_independencies\n",
    "        if t != s\n",
    "    ):\n",
    "        print(s)"
   ]
  },
  {
   "cell_type": "code",
   "execution_count": 75,
   "metadata": {
    "tags": []
   },
   "outputs": [
    {
     "output_type": "stream",
     "name": "stderr",
     "text": "sample: 100%|██████████| 3000/3000 [00:07<00:00, 412.35it/s, 7 steps of size 5.64e-01. acc. prob=0.88]\n\n                mean       std    median      5.0%     95.0%     n_eff     r_hat\n         a     -0.12      0.13     -0.12     -0.33      0.11   1704.37      1.00\n        bA     -0.58      0.17     -0.58     -0.87     -0.32   1404.95      1.00\n        bM     -0.06      0.17     -0.06     -0.33      0.21   1247.65      1.00\n        bS      0.43      0.26      0.43     -0.03      0.82   1714.35      1.00\n     sigma      0.82      0.09      0.81      0.67      0.95   1734.84      1.00\n\nNumber of divergences: 0\n"
    }
   ],
   "source": [
    "def model(divorce_scaled=None, age_scaled=None, marriage_scaled=None, south=None):\n",
    "    a = numpyro.sample(\"a\", dist.Normal())\n",
    "    A,M,W,S = 0,0,0,0\n",
    "    if age_scaled is not None:\n",
    "        bA = numpyro.sample(\"bA\", dist.Normal())\n",
    "        A = bA * age_scaled\n",
    "    if marriage_scaled is not None:\n",
    "        bM = numpyro.sample(\"bM\", dist.Normal())\n",
    "        M = bM * marriage_scaled\n",
    "    if south is not None:\n",
    "        bS = numpyro.sample(\"bS\", dist.Normal())\n",
    "        S = bS * south\n",
    "\n",
    "    mu = a + A + M + W + S\n",
    "    sigma = numpyro.sample('sigma', dist.Exponential(.1))\n",
    "\n",
    "    numpyro.sample(\"divorce_scaled\", dist.Normal(mu, sigma), obs=divorce_scaled)\n",
    "\n",
    "mcmc = run_mcmc(model, from_df(df[['divorce_scaled', 'age_scaled', 'marriage_scaled', 'south']]))\n",
    "mcmc.print_summary()"
   ]
  },
  {
   "cell_type": "code",
   "execution_count": null,
   "metadata": {},
   "outputs": [],
   "source": []
  }
 ]
}